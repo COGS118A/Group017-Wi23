{
 "cells": [
  {
   "cell_type": "markdown",
   "metadata": {},
   "source": [
    "# COGS 118A - Final Project"
   ]
  },
  {
   "cell_type": "markdown",
   "metadata": {},
   "source": [
    "## Prediction of Chess Game Outcomes Based on Player Features"
   ]
  },
  {
   "cell_type": "markdown",
   "metadata": {},
   "source": [
    "# Names\n",
    "\n",
    "Hopefully your team is at least this good.\n",
    "\n",
    "- Omri Habot\n",
    "- Keate Ehrenburg\n",
    "- Jacob Lamadrid\n",
    "- Alex Bumbalov"
   ]
  },
  {
   "cell_type": "markdown",
   "metadata": {},
   "source": [
    "# Abstract\n",
    "\n",
    "The goal of this project is to examine the effectiveness of different models in predicting the outcome of a chess match. The data used in this project will contain features describing players’ technical skill and experience including the Elo rating of each player, the number of games they have played, the number of wins/losses/draws they have achieved, their age, and the length of the game. These are measured by observing the outcomes of every game in a player’s career. We will use this data to perform feature selection and single out the most relevant features, and then we will train the models and compare their predictive accuracies. Accuracy will be measured by classification error metrics including precision, recall, f1-score, and possibly others, which we will compare across models to observe their relative efficacies."
   ]
  },
  {
   "cell_type": "markdown",
   "metadata": {},
   "source": [
    "# Background\n",
    "\n",
    "Within the world of chess competitions and general play, machine learning and deep learning have been famously applied in such algorithms as Deep Blue, Stockfish, etc. These algorithms historically have aimed to predict the next best move to be executed as well as the win probability at any given position state [1](https://arxiv.org/pdf/2109.11602.pdf). This win probability is what we aim to place our project emphasis upon as in similar works in varying competitive settings, most relevant of which is found in esports win/loss classification based upon player/team rankings and typical movesets among many other features [2](https://arxiv.org/pdf/2108.02799.pdf). The application of these algorithms in returning win probability and outcome prediction has large impacts in the way one chooses to learn chess or the way in which a machine is taught how to play chess. This may also have implications for the way in which new strategies or entire play styles are formed. These implications have already manifested themselves in the competitive playspace as many players look towards Stockfish evaluations for input on their play or for other engines in which competition may aid in their training as “with the help of chess engines, Grandmasters are now able to plan prepare for their games in extreme depth, sometimes memorizing up to 15-20 moves of their openings” [3](https://fluency.mcsaatchi.com/2022/09/01/the-evolution-of-chess-ai/#:~:text=Artificial%20intelligence%20has%20completely%20changed,20%20moves%20of%20their%20openings.). In order to approach the problem of finding an appropriate machine learning prediction method , we are going to need a large amount of chess match data to work with. We have chosen to use the Free Internet Chess Server(FICS) database. The database has been collecting all rated and unrated games played on FICS since October of 2008. With over 200 million games stored, this will provide us with plenty of data to address our goal of outcome classification.\n",
    "\n",
    "Our models will train similarly to current chess engines, utilizing previous games played in order to gain improve decision making and outcome prediction, as in the models created by the chess.com website, with machine learning algorithms such as Luk.AI which improves its elo with every game played."
   ]
  },
  {
   "cell_type": "markdown",
   "metadata": {},
   "source": [
    "# Problem Statement\n",
    "\n",
    "The problem we will be addressing is determining which machine learning method best predicts the winner of a chess game depending on variables like participating players, player statistics and scores such as their Elo’s, the opening, and psychological factors of the players, among others. We plan to explore this problem by trying three different machine learning algorithms: logistic regression, random forest, and deep neural network. Logistic regression is a solid classification method. While we fear that it may be too simple for this task, we believe it is a simple baseline to compare with other, more complex models. We plan to try random forests because the complex decision boundaries may be sufficient for consistently accurate and generalizable predictions. Finally, we plan on using a deep neural network because it seems to be the baseline method used for very similar problems, and given our large dataset, we hope it will pick up on important nuances that are neglected by logistic regression and random forest. We will use labeled chess game data that denotes the winner of each game as well as the aforementioned variables that describe the game. Each model will be trained using the same (or similar) dataset and evaluated with the same set of classification error metrics such that we can compare their efficacies. These metrics include precision, recall, f1-score, and others."
   ]
  },
  {
   "cell_type": "markdown",
   "metadata": {},
   "source": [
    "# Data\n",
    "\n",
    "We will be using the [Free Internet Chess Server (FICS)](https://www.ficsgames.org/dl/ficsgamesdb_202301_blitz2000_movetimes_278527.pgn.bz2) as our database for analysis. The dataset comes in the Portable Game Notation (PGN) file format, which is a common data format for representing chess games. We will need to convert this into a pandas dataframe for our analysis, so we will write a function that parses through the PGN file as text and builds a dataframe from it. Once the data is parsed, we will simply need to convert each column into the appropriate datatype, so numbers would be int32 or float64, words will be strings, binary features will be boolean, etc.\n",
    "\n",
    "There are many different types of chess games from which we can choose that would cause nuances in our analysis and results. We selected blitz games because their rapid nature produces more variability in game moves, and therefore outcomes. We hope that this variability gives us more data to work with when predicting outcomes. Our dataset has 25884 complete observations (each representing a chess game) as well as 22 features describing each game (before one-hot encoding). Each observation consists of the moves made throughout the game, the date and time played, the players and their colors, player Elo, match result, and game variant and time control information for each match. One of the most critical features is `playerElo`, a score representing the relative skill levels of players, since this is likely one of the biggest predictors of the outcome. This is represented by an arbitrary number that can indicate a player's relative skill level when compared to other players. Another crucial feature is `moves`, which outlines all the moves made in the game. We can use this sequential data to build more complex models and make more nuanced predictions."
   ]
  },
  {
   "cell_type": "markdown",
   "metadata": {},
   "source": [
    "### Data Cleaning and Importing"
   ]
  },
  {
   "cell_type": "markdown",
   "metadata": {},
   "source": [
    "The database provides chess game data in the PGN file format. In order to convert the data into a dataframe and proceed with our analysis, we wrote scripts to parse our desired variables from PGN files and produce CSV files. Afterwards, we imported the CSV's as dataframes and cleaned them up such that each feature had the proper datatype. "
   ]
  },
  {
   "cell_type": "code",
   "execution_count": 1,
   "metadata": {},
   "outputs": [],
   "source": [
    "# Cleaning\n",
    "import pandas as pd\n",
    "import os\n",
    "\n",
    "# import all csv's from a folder and combine them into one dataframe\n",
    "def combine_data_files(folder_path):\n",
    "    df_list = []\n",
    "\n",
    "    for file_name in os.listdir(folder_path):\n",
    "        if file_name.endswith('.csv'):\n",
    "            file_path = os.path.join(folder_path, file_name)\n",
    "            df = pd.read_csv(file_path)\n",
    "            df_list.append(df)\n",
    "\n",
    "    return pd.concat(df_list, axis=0, ignore_index=True)\n",
    "\n",
    "# clean up the datatypes of the imported dataframes\n",
    "def clean_df_new(df):\n",
    "    \n",
    "    resMap = lambda res : 'White' if res == '1-0' else 'Black' if res == '0-1' else 'Draw' if res == \"1/2-1/2\" else res\n",
    "    cleanDateTime = lambda d: pd.to_datetime(d)\n",
    "    cleanComment = lambda x: x if x.find(']') == -1 else x.split(\"] \")[1]\n",
    "\n",
    "    datetime_columns = ['Date', 'Time', 'WhiteClock', 'BlackClock']\n",
    "    float_columns = ['WhiteRD', 'BlackRD', 'AvgEvalOpening', 'AvgEvalMiddle', 'AvgEvalEnd', 'AvgEmtOpening', 'AvgEmtMiddle', 'AvgEmtEnd']\n",
    "    int_columns = ['FICSGamesDBGameNo', 'WhiteElo', 'BlackElo', 'PlyCount']\n",
    "\n",
    "    df = df.drop(['Event', 'Site', 'Round', 'WhiteClock', 'BlackClock'], axis=1)\n",
    "\n",
    "    for column in df.columns:\n",
    "\n",
    "        if column in float_columns:\n",
    "            df[column] = df[column].astype(float)\n",
    "        elif column in int_columns:\n",
    "            df[column] = df[column].astype(int)\n",
    "        elif column in datetime_columns:\n",
    "            df[column] = df[column].apply(cleanDateTime)\n",
    "        else:\n",
    "            if column == 'Result':\n",
    "                df[column] = df[column].apply(resMap)\n",
    "            if column == 'ResultComment':\n",
    "                df[column] = df[column].apply(cleanComment)\n",
    "            df[column] = df[column].astype('category')\n",
    "\n",
    "    df['WhiteIsComp'] = df['WhiteIsComp'] == 'Yes'\n",
    "    df['BlackIsComp'] = df['BlackIsComp'] == 'Yes'\n",
    "\n",
    "    return df"
   ]
  },
  {
   "cell_type": "code",
   "execution_count": 2,
   "metadata": {},
   "outputs": [
    {
     "data": {
      "text/plain": [
       "(25884, 22)"
      ]
     },
     "execution_count": 2,
     "metadata": {},
     "output_type": "execute_result"
    }
   ],
   "source": [
    "combined_df = combine_data_files('data-by-month')\n",
    "cleaned = clean_df_new(combined_df).dropna()\n",
    "cleaned.shape"
   ]
  },
  {
   "cell_type": "markdown",
   "metadata": {},
   "source": [
    "After cleaning the datatypes, we performed the last processing step: applying one-hot encoding to categorical features and converting redundant numerical features into averages."
   ]
  },
  {
   "cell_type": "code",
   "execution_count": 3,
   "metadata": {},
   "outputs": [],
   "source": [
    "# additional processing: perform one-hot encoding and take average of given numerical columns\n",
    "def construct_df_train(df):\n",
    "    # Define columns to take the average of and to one-hot encode\n",
    "    cols_to_avg = ['WhiteRD', 'BlackRD', 'AvgEvalOpening', 'AvgEvalMiddle', 'AvgEvalEnd', 'AvgEmtOpening', 'AvgEmtMiddle', 'AvgEmtEnd', 'PlyCount']\n",
    "    cols_to_onehot = ['ECO'] # 'White', 'Black',  <--- For if we decide to train using player UN for black and white as a features\n",
    "    ground_truth_labels = ['Result', 'ResultComment']\n",
    "\n",
    "    # Define dictionary to map column names to letters for one-hot encoding\n",
    "    col_name_to_letter = {col_name: chr(65+i) for i, col_name in enumerate(ground_truth_labels+cols_to_onehot)}\n",
    "\n",
    "    # Define column names for player-wise averages\n",
    "    new_cols_white = ['WhiteAvgRD', 'WhiteAvgEvalForOpenings', 'WhiteAvgEvalForMiddlegames', 'WhiteAvgEvalForEndgames', 'WhiteAvgEmtForOpenings', 'WhiteAvgEmtForMiddlegames', 'WhiteAvgEmtForEndgames', 'WhiteAvgPlyCount']\n",
    "    new_cols_black = ['BlackAvgRD', 'BlackAvgEvalForOpenings', 'BlackAvgEvalForMiddlegames', 'BlackAvgEvalForEndgames', 'BlackAvgEmtForOpenings', 'BlackAvgEmtForMiddlegames', 'BlackAvgEmtForEndgames', 'BlackAvgPlyCount']\n",
    "\n",
    "    # Compute player-wise averages\n",
    "    dataAvgsByUserWhite = {p: df[df['White'] == p][cols_to_avg+cols_to_onehot].mean(numeric_only=True) for p in df['White'].unique()}\n",
    "    dataAvgsByUserBlack = {p: df[df['Black'] == p][cols_to_avg+cols_to_onehot].mean(numeric_only=True) for p in df['Black'].unique()}\n",
    "\n",
    "    # Define empty dataframe to hold the new data\n",
    "    df_new = pd.DataFrame(columns = ground_truth_labels+cols_to_onehot+new_cols_white+new_cols_black)\n",
    "\n",
    "    # Iterate over each row in the original dataframe and create a new row in the output dataframe with the necessary data\n",
    "    for row in df.itertuples():\n",
    "        white_avg_values = dataAvgsByUserWhite.get(row.White, pd.Series([0]*len(cols_to_avg+cols_to_onehot)))\n",
    "        black_avg_values = dataAvgsByUserBlack.get(row.Black, pd.Series([0]*len(cols_to_avg+cols_to_onehot)))\n",
    "\n",
    "        white_new_cols = [white_avg_values[0], white_avg_values[2], white_avg_values[3], white_avg_values[4], white_avg_values[5], white_avg_values[6], white_avg_values[7], white_avg_values[8]]\n",
    "        black_new_cols = [black_avg_values[1], black_avg_values[2], black_avg_values[3], black_avg_values[4], black_avg_values[5], black_avg_values[6], black_avg_values[7], black_avg_values[8]]\n",
    "\n",
    "        new_row = tuple(getattr(row, label) for label in ground_truth_labels+cols_to_onehot) + tuple(white_new_cols) + tuple(black_new_cols)\n",
    "\n",
    "        df_new.loc[len(df_new)] = new_row\n",
    "\n",
    "    # One-hot encode the ground truth labels and cols_to_onehot\n",
    "    df_new = pd.get_dummies(df_new, columns = ground_truth_labels+cols_to_onehot, prefix = list(col_name_to_letter.values()))\n",
    "\n",
    "    # Map the column labels to their corresponding uppercase letters\n",
    "    df_new.columns = df_new.columns.map(lambda x: col_name_to_letter.get(x, x))\n",
    "\n",
    "    return df_new"
   ]
  },
  {
   "cell_type": "code",
   "execution_count": 4,
   "metadata": {},
   "outputs": [
    {
     "name": "stdout",
     "output_type": "stream",
     "text": [
      "Number of observations: 25884\n",
      "Number of features (after one-hot encoding): 517\n"
     ]
    },
    {
     "data": {
      "text/html": [
       "<div>\n",
       "<style scoped>\n",
       "    .dataframe tbody tr th:only-of-type {\n",
       "        vertical-align: middle;\n",
       "    }\n",
       "\n",
       "    .dataframe tbody tr th {\n",
       "        vertical-align: top;\n",
       "    }\n",
       "\n",
       "    .dataframe thead th {\n",
       "        text-align: right;\n",
       "    }\n",
       "</style>\n",
       "<table border=\"1\" class=\"dataframe\">\n",
       "  <thead>\n",
       "    <tr style=\"text-align: right;\">\n",
       "      <th></th>\n",
       "      <th>WhiteAvgRD</th>\n",
       "      <th>WhiteAvgEvalForOpenings</th>\n",
       "      <th>WhiteAvgEvalForMiddlegames</th>\n",
       "      <th>WhiteAvgEvalForEndgames</th>\n",
       "      <th>WhiteAvgEmtForOpenings</th>\n",
       "      <th>WhiteAvgEmtForMiddlegames</th>\n",
       "      <th>WhiteAvgEmtForEndgames</th>\n",
       "      <th>WhiteAvgPlyCount</th>\n",
       "      <th>BlackAvgRD</th>\n",
       "      <th>BlackAvgEvalForOpenings</th>\n",
       "      <th>...</th>\n",
       "      <th>C_E87</th>\n",
       "      <th>C_E88</th>\n",
       "      <th>C_E90</th>\n",
       "      <th>C_E91</th>\n",
       "      <th>C_E92</th>\n",
       "      <th>C_E93</th>\n",
       "      <th>C_E94</th>\n",
       "      <th>C_E95</th>\n",
       "      <th>C_E96</th>\n",
       "      <th>C_E97</th>\n",
       "    </tr>\n",
       "  </thead>\n",
       "  <tbody>\n",
       "    <tr>\n",
       "      <th>0</th>\n",
       "      <td>38.420278</td>\n",
       "      <td>32.524248</td>\n",
       "      <td>-43.375840</td>\n",
       "      <td>-127.995024</td>\n",
       "      <td>1.421413</td>\n",
       "      <td>2.884999</td>\n",
       "      <td>2.307980</td>\n",
       "      <td>82.751491</td>\n",
       "      <td>24.511458</td>\n",
       "      <td>9.013154</td>\n",
       "      <td>...</td>\n",
       "      <td>0</td>\n",
       "      <td>0</td>\n",
       "      <td>0</td>\n",
       "      <td>0</td>\n",
       "      <td>0</td>\n",
       "      <td>0</td>\n",
       "      <td>0</td>\n",
       "      <td>0</td>\n",
       "      <td>0</td>\n",
       "      <td>0</td>\n",
       "    </tr>\n",
       "    <tr>\n",
       "      <th>1</th>\n",
       "      <td>23.704897</td>\n",
       "      <td>17.587234</td>\n",
       "      <td>66.025927</td>\n",
       "      <td>107.154473</td>\n",
       "      <td>0.593228</td>\n",
       "      <td>1.020952</td>\n",
       "      <td>0.859214</td>\n",
       "      <td>71.577320</td>\n",
       "      <td>48.616260</td>\n",
       "      <td>42.700471</td>\n",
       "      <td>...</td>\n",
       "      <td>0</td>\n",
       "      <td>0</td>\n",
       "      <td>0</td>\n",
       "      <td>0</td>\n",
       "      <td>0</td>\n",
       "      <td>0</td>\n",
       "      <td>0</td>\n",
       "      <td>0</td>\n",
       "      <td>0</td>\n",
       "      <td>0</td>\n",
       "    </tr>\n",
       "    <tr>\n",
       "      <th>2</th>\n",
       "      <td>23.704897</td>\n",
       "      <td>17.587234</td>\n",
       "      <td>66.025927</td>\n",
       "      <td>107.154473</td>\n",
       "      <td>0.593228</td>\n",
       "      <td>1.020952</td>\n",
       "      <td>0.859214</td>\n",
       "      <td>71.577320</td>\n",
       "      <td>37.949477</td>\n",
       "      <td>24.115776</td>\n",
       "      <td>...</td>\n",
       "      <td>0</td>\n",
       "      <td>0</td>\n",
       "      <td>0</td>\n",
       "      <td>0</td>\n",
       "      <td>0</td>\n",
       "      <td>0</td>\n",
       "      <td>0</td>\n",
       "      <td>0</td>\n",
       "      <td>0</td>\n",
       "      <td>0</td>\n",
       "    </tr>\n",
       "    <tr>\n",
       "      <th>3</th>\n",
       "      <td>76.569231</td>\n",
       "      <td>-8.465083</td>\n",
       "      <td>66.581271</td>\n",
       "      <td>352.627118</td>\n",
       "      <td>0.958325</td>\n",
       "      <td>1.674292</td>\n",
       "      <td>1.613654</td>\n",
       "      <td>57.615385</td>\n",
       "      <td>47.100000</td>\n",
       "      <td>20.733459</td>\n",
       "      <td>...</td>\n",
       "      <td>0</td>\n",
       "      <td>0</td>\n",
       "      <td>0</td>\n",
       "      <td>0</td>\n",
       "      <td>0</td>\n",
       "      <td>0</td>\n",
       "      <td>0</td>\n",
       "      <td>0</td>\n",
       "      <td>0</td>\n",
       "      <td>0</td>\n",
       "    </tr>\n",
       "    <tr>\n",
       "      <th>4</th>\n",
       "      <td>39.208333</td>\n",
       "      <td>32.757975</td>\n",
       "      <td>-14.255536</td>\n",
       "      <td>-260.466231</td>\n",
       "      <td>0.870944</td>\n",
       "      <td>2.291553</td>\n",
       "      <td>1.272553</td>\n",
       "      <td>79.000000</td>\n",
       "      <td>76.640000</td>\n",
       "      <td>24.274934</td>\n",
       "      <td>...</td>\n",
       "      <td>0</td>\n",
       "      <td>0</td>\n",
       "      <td>0</td>\n",
       "      <td>0</td>\n",
       "      <td>0</td>\n",
       "      <td>0</td>\n",
       "      <td>0</td>\n",
       "      <td>0</td>\n",
       "      <td>0</td>\n",
       "      <td>0</td>\n",
       "    </tr>\n",
       "  </tbody>\n",
       "</table>\n",
       "<p>5 rows × 517 columns</p>\n",
       "</div>"
      ],
      "text/plain": [
       "   WhiteAvgRD  WhiteAvgEvalForOpenings  WhiteAvgEvalForMiddlegames  \\\n",
       "0   38.420278                32.524248                  -43.375840   \n",
       "1   23.704897                17.587234                   66.025927   \n",
       "2   23.704897                17.587234                   66.025927   \n",
       "3   76.569231                -8.465083                   66.581271   \n",
       "4   39.208333                32.757975                  -14.255536   \n",
       "\n",
       "   WhiteAvgEvalForEndgames  WhiteAvgEmtForOpenings  WhiteAvgEmtForMiddlegames  \\\n",
       "0              -127.995024                1.421413                   2.884999   \n",
       "1               107.154473                0.593228                   1.020952   \n",
       "2               107.154473                0.593228                   1.020952   \n",
       "3               352.627118                0.958325                   1.674292   \n",
       "4              -260.466231                0.870944                   2.291553   \n",
       "\n",
       "   WhiteAvgEmtForEndgames  WhiteAvgPlyCount  BlackAvgRD  \\\n",
       "0                2.307980         82.751491   24.511458   \n",
       "1                0.859214         71.577320   48.616260   \n",
       "2                0.859214         71.577320   37.949477   \n",
       "3                1.613654         57.615385   47.100000   \n",
       "4                1.272553         79.000000   76.640000   \n",
       "\n",
       "   BlackAvgEvalForOpenings  ...  C_E87  C_E88  C_E90  C_E91  C_E92  C_E93  \\\n",
       "0                 9.013154  ...      0      0      0      0      0      0   \n",
       "1                42.700471  ...      0      0      0      0      0      0   \n",
       "2                24.115776  ...      0      0      0      0      0      0   \n",
       "3                20.733459  ...      0      0      0      0      0      0   \n",
       "4                24.274934  ...      0      0      0      0      0      0   \n",
       "\n",
       "   C_E94  C_E95  C_E96  C_E97  \n",
       "0      0      0      0      0  \n",
       "1      0      0      0      0  \n",
       "2      0      0      0      0  \n",
       "3      0      0      0      0  \n",
       "4      0      0      0      0  \n",
       "\n",
       "[5 rows x 517 columns]"
      ]
     },
     "execution_count": 4,
     "metadata": {},
     "output_type": "execute_result"
    }
   ],
   "source": [
    "df_train = construct_df_train(cleaned)\n",
    "print('Number of observations: ' + str(df_train.shape[0]))\n",
    "print('Number of features (after one-hot encoding): ' + str(df_train.shape[1]))\n",
    "df_train.head()"
   ]
  },
  {
   "attachments": {},
   "cell_type": "markdown",
   "metadata": {},
   "source": [
    "### Brief EDA"
   ]
  },
  {
   "attachments": {},
   "cell_type": "markdown",
   "metadata": {},
   "source": [
    "# __NEEDS WORK__"
   ]
  },
  {
   "cell_type": "markdown",
   "metadata": {},
   "source": [
    "# Proposed Solution\n",
    "\n",
    "In this project we aim to evaluate the effectiveness of three different machine learning implementations at classifying the outcomes of FIDE titled chess games from unlabeled match data. Each model (Logisitc Regression, Random Forests, and the Deep NN) will be trained on a curated sample database consisting of several derived features representing characteristics of the games pertinent to the games’ outcomes. We chose logistic regression as our first model because it is a solid classification method. While we fear that it may be too simple for this task, we believe it is a good, simple baseline to compare with more complex models. We also plan to try random forests because the complex decision boundaries may be sufficient for consistently accurate and generalizable predictions. Finally, we will use a deep neural network because it seems to be the baseline method used for very similar problems regarding chess game outcomes, and given our large dataset, we hope it will pick up on important nuances that are neglected by logistic regression and random forest. \n",
    "\n",
    "For this we will need to use a variety of tools for accessing and manipulating the data to generate these special features. Pandas and numpy will be instrumental in this preprocessing stage. Further imports will be required for sklearn and matplot lib for training/validation and analysis, as well as an additional library called pychess will be necessary for processing chess engine ratings and to help format game data for preprocessing. We will be using built in methods for training and validating data provided by sklearn. To measure the effectiveness of our model we will take Sayon Bhattacharjee’s LSTM solution published in the _Towards Data Science_ article found [here](https://towardsdatascience.com/predicting-professional-players-chess-moves-with-deep-learning-9de6e305109e). Sayon's LTSM solution uses two convolutional neural networks; one \"predicts\" where a particular piece moved from, and the other predicts where a piece will move. These networks are combined as a time series to model a classification problem with three possible output categories corresponding with the outcome: black wins, white wins, or there is a draw. The effectiveness of this model can simply be measured by classification accuracy using metrics discussed in the following section."
   ]
  },
  {
   "cell_type": "markdown",
   "metadata": {},
   "source": [
    "# Evaluation Metrics\n",
    "\n",
    "In the evaluation of binary chess outcome classification, simply implementing a confusion matrix of our algorithm’s results is most appropriate for visualizing the performance. In this situation, there is equal cost associated with both false positive rates and false negative rates, and there is equal cost associated with true positives and true negative rates. Consequently, we care about both the recall and precision of our models equally. This suggests that an f1-score is one primary metric we should use, since it is equally sensitive to both recall and precision. For example, predicting that Player 1 wins when they actually win is equally as important as being ‘accurate’ when predicting that Player 1 will win; the cost of a false positive is no different than the cost of a false negative. We may also explore some other classification error metrics such as likelihood ratios.\n",
    "\n",
    "$$precision = \\frac{TP}{TP + FP}$$\n",
    "$$recall = \\frac{TP}{TP + FN}$$\n",
    "$$F1-Score = \\frac{2*precision*recall}{precision + recall}$$"
   ]
  },
  {
   "cell_type": "markdown",
   "metadata": {},
   "source": [
    "# Results"
   ]
  },
  {
   "cell_type": "markdown",
   "metadata": {},
   "source": [
    "The first step, as with any machine learning process, is to the split the data into useful training and test sets. We will do this using our `df_train` dataset, which is preprocessed with float64 and one-hot encoded features. This dataset still contains the ground truth labels as well, so we will drop them before splitting up our data."
   ]
  },
  {
   "cell_type": "code",
   "execution_count": 37,
   "metadata": {},
   "outputs": [],
   "source": [
    "from sklearn.ensemble import RandomForestClassifier\n",
    "from sklearn.model_selection import GridSearchCV, RepeatedKFold, train_test_split\n",
    "from sklearn.metrics import classification_report, confusion_matrix, ConfusionMatrixDisplay, f1_score\n",
    "\n",
    "from sklearn.linear_model import LogisticRegression\n",
    "from sklearn.preprocessing import FunctionTransformer, MinMaxScaler, StandardScaler\n",
    "from sklearn.pipeline import Pipeline\n",
    "from sklearn.compose import ColumnTransformer\n",
    "\n",
    "import numpy as np\n",
    "\n",
    "import matplotlib.pyplot as plt\n",
    "\n",
    "import warnings\n",
    "warnings.filterwarnings(\"ignore\")"
   ]
  },
  {
   "cell_type": "markdown",
   "metadata": {},
   "source": [
    "### Logistic Regression"
   ]
  },
  {
   "attachments": {},
   "cell_type": "markdown",
   "metadata": {},
   "source": [
    "The hyperparameter tuning for this Logistic Regression model included the `penalty`, `C`, and `solver` parameters. Included in the optimization of this model is the preprocessing which preceded the model's GridSearchCV tuning. The aim of this preprocessing was to standardize all values to reasonable ranges in which it is possible to apply Logistic Regression upon it successfully for the purposes of multi-class prediction.\n",
    "\n",
    "The grid search process determined that the best hyperparameters were: `penalty=\"l1\"`, `C=1e+04`, and `solver=\"liblinear\"`. At baseline, Logistic Regression performed at around a 57% accuracy, but through Grid Search and preprocessing, we were able to improve this performance by about 13% and provide reasonable predictions given the simplicity of this model.\n",
    "\n",
    "Overall, the model performed at a reasonable accuracy."
   ]
  },
  {
   "attachments": {},
   "cell_type": "markdown",
   "metadata": {},
   "source": [
    "#### Setting Up Data and Models"
   ]
  },
  {
   "cell_type": "code",
   "execution_count": 31,
   "metadata": {},
   "outputs": [],
   "source": [
    "# split data into training and test sets\n",
    "\n",
    "# drop ground truth and one-hot encoded variables from feature set\n",
    "X = (df_train.drop(columns=df_train.columns[df_train.columns.str.contains('A_') + \n",
    "                                            df_train.columns.str.contains('B_') + \n",
    "                                            df_train.columns.str.contains('C_')])\n",
    "    )\n",
    "y = cleaned['Result']\n",
    "\n",
    "X_train, X_test, y_train, y_test = train_test_split(X, y, random_state=42)"
   ]
  },
  {
   "cell_type": "code",
   "execution_count": 32,
   "metadata": {
    "scrolled": true
   },
   "outputs": [
    {
     "data": {
      "text/html": [
       "<style>#sk-container-id-2 {color: black;background-color: white;}#sk-container-id-2 pre{padding: 0;}#sk-container-id-2 div.sk-toggleable {background-color: white;}#sk-container-id-2 label.sk-toggleable__label {cursor: pointer;display: block;width: 100%;margin-bottom: 0;padding: 0.3em;box-sizing: border-box;text-align: center;}#sk-container-id-2 label.sk-toggleable__label-arrow:before {content: \"▸\";float: left;margin-right: 0.25em;color: #696969;}#sk-container-id-2 label.sk-toggleable__label-arrow:hover:before {color: black;}#sk-container-id-2 div.sk-estimator:hover label.sk-toggleable__label-arrow:before {color: black;}#sk-container-id-2 div.sk-toggleable__content {max-height: 0;max-width: 0;overflow: hidden;text-align: left;background-color: #f0f8ff;}#sk-container-id-2 div.sk-toggleable__content pre {margin: 0.2em;color: black;border-radius: 0.25em;background-color: #f0f8ff;}#sk-container-id-2 input.sk-toggleable__control:checked~div.sk-toggleable__content {max-height: 200px;max-width: 100%;overflow: auto;}#sk-container-id-2 input.sk-toggleable__control:checked~label.sk-toggleable__label-arrow:before {content: \"▾\";}#sk-container-id-2 div.sk-estimator input.sk-toggleable__control:checked~label.sk-toggleable__label {background-color: #d4ebff;}#sk-container-id-2 div.sk-label input.sk-toggleable__control:checked~label.sk-toggleable__label {background-color: #d4ebff;}#sk-container-id-2 input.sk-hidden--visually {border: 0;clip: rect(1px 1px 1px 1px);clip: rect(1px, 1px, 1px, 1px);height: 1px;margin: -1px;overflow: hidden;padding: 0;position: absolute;width: 1px;}#sk-container-id-2 div.sk-estimator {font-family: monospace;background-color: #f0f8ff;border: 1px dotted black;border-radius: 0.25em;box-sizing: border-box;margin-bottom: 0.5em;}#sk-container-id-2 div.sk-estimator:hover {background-color: #d4ebff;}#sk-container-id-2 div.sk-parallel-item::after {content: \"\";width: 100%;border-bottom: 1px solid gray;flex-grow: 1;}#sk-container-id-2 div.sk-label:hover label.sk-toggleable__label {background-color: #d4ebff;}#sk-container-id-2 div.sk-serial::before {content: \"\";position: absolute;border-left: 1px solid gray;box-sizing: border-box;top: 0;bottom: 0;left: 50%;z-index: 0;}#sk-container-id-2 div.sk-serial {display: flex;flex-direction: column;align-items: center;background-color: white;padding-right: 0.2em;padding-left: 0.2em;position: relative;}#sk-container-id-2 div.sk-item {position: relative;z-index: 1;}#sk-container-id-2 div.sk-parallel {display: flex;align-items: stretch;justify-content: center;background-color: white;position: relative;}#sk-container-id-2 div.sk-item::before, #sk-container-id-2 div.sk-parallel-item::before {content: \"\";position: absolute;border-left: 1px solid gray;box-sizing: border-box;top: 0;bottom: 0;left: 50%;z-index: -1;}#sk-container-id-2 div.sk-parallel-item {display: flex;flex-direction: column;z-index: 1;position: relative;background-color: white;}#sk-container-id-2 div.sk-parallel-item:first-child::after {align-self: flex-end;width: 50%;}#sk-container-id-2 div.sk-parallel-item:last-child::after {align-self: flex-start;width: 50%;}#sk-container-id-2 div.sk-parallel-item:only-child::after {width: 0;}#sk-container-id-2 div.sk-dashed-wrapped {border: 1px dashed gray;margin: 0 0.4em 0.5em 0.4em;box-sizing: border-box;padding-bottom: 0.4em;background-color: white;}#sk-container-id-2 div.sk-label label {font-family: monospace;font-weight: bold;display: inline-block;line-height: 1.2em;}#sk-container-id-2 div.sk-label-container {text-align: center;}#sk-container-id-2 div.sk-container {/* jupyter's `normalize.less` sets `[hidden] { display: none; }` but bootstrap.min.css set `[hidden] { display: none !important; }` so we also need the `!important` here to be able to override the default hidden behavior on the sphinx rendered scikit-learn.org. See: https://github.com/scikit-learn/scikit-learn/issues/21755 */display: inline-block !important;position: relative;}#sk-container-id-2 div.sk-text-repr-fallback {display: none;}</style><div id=\"sk-container-id-2\" class=\"sk-top-container\"><div class=\"sk-text-repr-fallback\"><pre>Pipeline(steps=[(&#x27;preprocessing&#x27;,\n",
       "                 ColumnTransformer(transformers=[(&#x27;white-as-is&#x27;,\n",
       "                                                  FunctionTransformer(),\n",
       "                                                  [&#x27;WhiteAvgEmtForOpenings&#x27;,\n",
       "                                                   &#x27;WhiteAvgEmtForMiddlegames&#x27;,\n",
       "                                                   &#x27;WhiteAvgEmtForEndgames&#x27;]),\n",
       "                                                 (&#x27;black-as-is&#x27;,\n",
       "                                                  FunctionTransformer(),\n",
       "                                                  [&#x27;BlackAvgEmtForOpenings&#x27;,\n",
       "                                                   &#x27;BlackAvgEmtForMiddlegames&#x27;,\n",
       "                                                   &#x27;BlackAvgEmtForEndgames&#x27;]),\n",
       "                                                 (&#x27;white-scale&#x27;,\n",
       "                                                  StandardScaler(),\n",
       "                                                  [&#x27;WhiteAvgEvalFor...gs&#x27;,\n",
       "                                                   &#x27;WhiteAvgEvalForMiddlegames&#x27;,\n",
       "                                                   &#x27;WhiteAvgEvalForEndgames&#x27;]),\n",
       "                                                 (&#x27;black-scale&#x27;,\n",
       "                                                  StandardScaler(),\n",
       "                                                  [&#x27;BlackAvgEvalForOpenings&#x27;,\n",
       "                                                   &#x27;BlackAvgEvalForMiddlegames&#x27;,\n",
       "                                                   &#x27;BlackAvgEvalForEndgames&#x27;]),\n",
       "                                                 (&#x27;std scale&#x27;, StandardScaler(),\n",
       "                                                  [&#x27;WhiteAvgPlyCount&#x27;,\n",
       "                                                   &#x27;BlackAvgPlyCount&#x27;,\n",
       "                                                   &#x27;WhiteAvgRD&#x27;,\n",
       "                                                   &#x27;BlackAvgRD&#x27;])])),\n",
       "                (&#x27;logreg&#x27;,\n",
       "                 LogisticRegression(C=10000.0, penalty=&#x27;l1&#x27;,\n",
       "                                    solver=&#x27;liblinear&#x27;))])</pre><b>In a Jupyter environment, please rerun this cell to show the HTML representation or trust the notebook. <br />On GitHub, the HTML representation is unable to render, please try loading this page with nbviewer.org.</b></div><div class=\"sk-container\" hidden><div class=\"sk-item sk-dashed-wrapped\"><div class=\"sk-label-container\"><div class=\"sk-label sk-toggleable\"><input class=\"sk-toggleable__control sk-hidden--visually\" id=\"sk-estimator-id-14\" type=\"checkbox\" ><label for=\"sk-estimator-id-14\" class=\"sk-toggleable__label sk-toggleable__label-arrow\">Pipeline</label><div class=\"sk-toggleable__content\"><pre>Pipeline(steps=[(&#x27;preprocessing&#x27;,\n",
       "                 ColumnTransformer(transformers=[(&#x27;white-as-is&#x27;,\n",
       "                                                  FunctionTransformer(),\n",
       "                                                  [&#x27;WhiteAvgEmtForOpenings&#x27;,\n",
       "                                                   &#x27;WhiteAvgEmtForMiddlegames&#x27;,\n",
       "                                                   &#x27;WhiteAvgEmtForEndgames&#x27;]),\n",
       "                                                 (&#x27;black-as-is&#x27;,\n",
       "                                                  FunctionTransformer(),\n",
       "                                                  [&#x27;BlackAvgEmtForOpenings&#x27;,\n",
       "                                                   &#x27;BlackAvgEmtForMiddlegames&#x27;,\n",
       "                                                   &#x27;BlackAvgEmtForEndgames&#x27;]),\n",
       "                                                 (&#x27;white-scale&#x27;,\n",
       "                                                  StandardScaler(),\n",
       "                                                  [&#x27;WhiteAvgEvalFor...gs&#x27;,\n",
       "                                                   &#x27;WhiteAvgEvalForMiddlegames&#x27;,\n",
       "                                                   &#x27;WhiteAvgEvalForEndgames&#x27;]),\n",
       "                                                 (&#x27;black-scale&#x27;,\n",
       "                                                  StandardScaler(),\n",
       "                                                  [&#x27;BlackAvgEvalForOpenings&#x27;,\n",
       "                                                   &#x27;BlackAvgEvalForMiddlegames&#x27;,\n",
       "                                                   &#x27;BlackAvgEvalForEndgames&#x27;]),\n",
       "                                                 (&#x27;std scale&#x27;, StandardScaler(),\n",
       "                                                  [&#x27;WhiteAvgPlyCount&#x27;,\n",
       "                                                   &#x27;BlackAvgPlyCount&#x27;,\n",
       "                                                   &#x27;WhiteAvgRD&#x27;,\n",
       "                                                   &#x27;BlackAvgRD&#x27;])])),\n",
       "                (&#x27;logreg&#x27;,\n",
       "                 LogisticRegression(C=10000.0, penalty=&#x27;l1&#x27;,\n",
       "                                    solver=&#x27;liblinear&#x27;))])</pre></div></div></div><div class=\"sk-serial\"><div class=\"sk-item sk-dashed-wrapped\"><div class=\"sk-label-container\"><div class=\"sk-label sk-toggleable\"><input class=\"sk-toggleable__control sk-hidden--visually\" id=\"sk-estimator-id-15\" type=\"checkbox\" ><label for=\"sk-estimator-id-15\" class=\"sk-toggleable__label sk-toggleable__label-arrow\">preprocessing: ColumnTransformer</label><div class=\"sk-toggleable__content\"><pre>ColumnTransformer(transformers=[(&#x27;white-as-is&#x27;, FunctionTransformer(),\n",
       "                                 [&#x27;WhiteAvgEmtForOpenings&#x27;,\n",
       "                                  &#x27;WhiteAvgEmtForMiddlegames&#x27;,\n",
       "                                  &#x27;WhiteAvgEmtForEndgames&#x27;]),\n",
       "                                (&#x27;black-as-is&#x27;, FunctionTransformer(),\n",
       "                                 [&#x27;BlackAvgEmtForOpenings&#x27;,\n",
       "                                  &#x27;BlackAvgEmtForMiddlegames&#x27;,\n",
       "                                  &#x27;BlackAvgEmtForEndgames&#x27;]),\n",
       "                                (&#x27;white-scale&#x27;, StandardScaler(),\n",
       "                                 [&#x27;WhiteAvgEvalForOpenings&#x27;,\n",
       "                                  &#x27;WhiteAvgEvalForMiddlegames&#x27;,\n",
       "                                  &#x27;WhiteAvgEvalForEndgames&#x27;]),\n",
       "                                (&#x27;black-scale&#x27;, StandardScaler(),\n",
       "                                 [&#x27;BlackAvgEvalForOpenings&#x27;,\n",
       "                                  &#x27;BlackAvgEvalForMiddlegames&#x27;,\n",
       "                                  &#x27;BlackAvgEvalForEndgames&#x27;]),\n",
       "                                (&#x27;std scale&#x27;, StandardScaler(),\n",
       "                                 [&#x27;WhiteAvgPlyCount&#x27;, &#x27;BlackAvgPlyCount&#x27;,\n",
       "                                  &#x27;WhiteAvgRD&#x27;, &#x27;BlackAvgRD&#x27;])])</pre></div></div></div><div class=\"sk-parallel\"><div class=\"sk-parallel-item\"><div class=\"sk-item\"><div class=\"sk-label-container\"><div class=\"sk-label sk-toggleable\"><input class=\"sk-toggleable__control sk-hidden--visually\" id=\"sk-estimator-id-16\" type=\"checkbox\" ><label for=\"sk-estimator-id-16\" class=\"sk-toggleable__label sk-toggleable__label-arrow\">white-as-is</label><div class=\"sk-toggleable__content\"><pre>[&#x27;WhiteAvgEmtForOpenings&#x27;, &#x27;WhiteAvgEmtForMiddlegames&#x27;, &#x27;WhiteAvgEmtForEndgames&#x27;]</pre></div></div></div><div class=\"sk-serial\"><div class=\"sk-item\"><div class=\"sk-estimator sk-toggleable\"><input class=\"sk-toggleable__control sk-hidden--visually\" id=\"sk-estimator-id-17\" type=\"checkbox\" ><label for=\"sk-estimator-id-17\" class=\"sk-toggleable__label sk-toggleable__label-arrow\">FunctionTransformer</label><div class=\"sk-toggleable__content\"><pre>FunctionTransformer()</pre></div></div></div></div></div></div><div class=\"sk-parallel-item\"><div class=\"sk-item\"><div class=\"sk-label-container\"><div class=\"sk-label sk-toggleable\"><input class=\"sk-toggleable__control sk-hidden--visually\" id=\"sk-estimator-id-18\" type=\"checkbox\" ><label for=\"sk-estimator-id-18\" class=\"sk-toggleable__label sk-toggleable__label-arrow\">black-as-is</label><div class=\"sk-toggleable__content\"><pre>[&#x27;BlackAvgEmtForOpenings&#x27;, &#x27;BlackAvgEmtForMiddlegames&#x27;, &#x27;BlackAvgEmtForEndgames&#x27;]</pre></div></div></div><div class=\"sk-serial\"><div class=\"sk-item\"><div class=\"sk-estimator sk-toggleable\"><input class=\"sk-toggleable__control sk-hidden--visually\" id=\"sk-estimator-id-19\" type=\"checkbox\" ><label for=\"sk-estimator-id-19\" class=\"sk-toggleable__label sk-toggleable__label-arrow\">FunctionTransformer</label><div class=\"sk-toggleable__content\"><pre>FunctionTransformer()</pre></div></div></div></div></div></div><div class=\"sk-parallel-item\"><div class=\"sk-item\"><div class=\"sk-label-container\"><div class=\"sk-label sk-toggleable\"><input class=\"sk-toggleable__control sk-hidden--visually\" id=\"sk-estimator-id-20\" type=\"checkbox\" ><label for=\"sk-estimator-id-20\" class=\"sk-toggleable__label sk-toggleable__label-arrow\">white-scale</label><div class=\"sk-toggleable__content\"><pre>[&#x27;WhiteAvgEvalForOpenings&#x27;, &#x27;WhiteAvgEvalForMiddlegames&#x27;, &#x27;WhiteAvgEvalForEndgames&#x27;]</pre></div></div></div><div class=\"sk-serial\"><div class=\"sk-item\"><div class=\"sk-estimator sk-toggleable\"><input class=\"sk-toggleable__control sk-hidden--visually\" id=\"sk-estimator-id-21\" type=\"checkbox\" ><label for=\"sk-estimator-id-21\" class=\"sk-toggleable__label sk-toggleable__label-arrow\">StandardScaler</label><div class=\"sk-toggleable__content\"><pre>StandardScaler()</pre></div></div></div></div></div></div><div class=\"sk-parallel-item\"><div class=\"sk-item\"><div class=\"sk-label-container\"><div class=\"sk-label sk-toggleable\"><input class=\"sk-toggleable__control sk-hidden--visually\" id=\"sk-estimator-id-22\" type=\"checkbox\" ><label for=\"sk-estimator-id-22\" class=\"sk-toggleable__label sk-toggleable__label-arrow\">black-scale</label><div class=\"sk-toggleable__content\"><pre>[&#x27;BlackAvgEvalForOpenings&#x27;, &#x27;BlackAvgEvalForMiddlegames&#x27;, &#x27;BlackAvgEvalForEndgames&#x27;]</pre></div></div></div><div class=\"sk-serial\"><div class=\"sk-item\"><div class=\"sk-estimator sk-toggleable\"><input class=\"sk-toggleable__control sk-hidden--visually\" id=\"sk-estimator-id-23\" type=\"checkbox\" ><label for=\"sk-estimator-id-23\" class=\"sk-toggleable__label sk-toggleable__label-arrow\">StandardScaler</label><div class=\"sk-toggleable__content\"><pre>StandardScaler()</pre></div></div></div></div></div></div><div class=\"sk-parallel-item\"><div class=\"sk-item\"><div class=\"sk-label-container\"><div class=\"sk-label sk-toggleable\"><input class=\"sk-toggleable__control sk-hidden--visually\" id=\"sk-estimator-id-24\" type=\"checkbox\" ><label for=\"sk-estimator-id-24\" class=\"sk-toggleable__label sk-toggleable__label-arrow\">std scale</label><div class=\"sk-toggleable__content\"><pre>[&#x27;WhiteAvgPlyCount&#x27;, &#x27;BlackAvgPlyCount&#x27;, &#x27;WhiteAvgRD&#x27;, &#x27;BlackAvgRD&#x27;]</pre></div></div></div><div class=\"sk-serial\"><div class=\"sk-item\"><div class=\"sk-estimator sk-toggleable\"><input class=\"sk-toggleable__control sk-hidden--visually\" id=\"sk-estimator-id-25\" type=\"checkbox\" ><label for=\"sk-estimator-id-25\" class=\"sk-toggleable__label sk-toggleable__label-arrow\">StandardScaler</label><div class=\"sk-toggleable__content\"><pre>StandardScaler()</pre></div></div></div></div></div></div></div></div><div class=\"sk-item\"><div class=\"sk-estimator sk-toggleable\"><input class=\"sk-toggleable__control sk-hidden--visually\" id=\"sk-estimator-id-26\" type=\"checkbox\" ><label for=\"sk-estimator-id-26\" class=\"sk-toggleable__label sk-toggleable__label-arrow\">LogisticRegression</label><div class=\"sk-toggleable__content\"><pre>LogisticRegression(C=10000.0, penalty=&#x27;l1&#x27;, solver=&#x27;liblinear&#x27;)</pre></div></div></div></div></div></div></div>"
      ],
      "text/plain": [
       "Pipeline(steps=[('preprocessing',\n",
       "                 ColumnTransformer(transformers=[('white-as-is',\n",
       "                                                  FunctionTransformer(),\n",
       "                                                  ['WhiteAvgEmtForOpenings',\n",
       "                                                   'WhiteAvgEmtForMiddlegames',\n",
       "                                                   'WhiteAvgEmtForEndgames']),\n",
       "                                                 ('black-as-is',\n",
       "                                                  FunctionTransformer(),\n",
       "                                                  ['BlackAvgEmtForOpenings',\n",
       "                                                   'BlackAvgEmtForMiddlegames',\n",
       "                                                   'BlackAvgEmtForEndgames']),\n",
       "                                                 ('white-scale',\n",
       "                                                  StandardScaler(),\n",
       "                                                  ['WhiteAvgEvalFor...gs',\n",
       "                                                   'WhiteAvgEvalForMiddlegames',\n",
       "                                                   'WhiteAvgEvalForEndgames']),\n",
       "                                                 ('black-scale',\n",
       "                                                  StandardScaler(),\n",
       "                                                  ['BlackAvgEvalForOpenings',\n",
       "                                                   'BlackAvgEvalForMiddlegames',\n",
       "                                                   'BlackAvgEvalForEndgames']),\n",
       "                                                 ('std scale', StandardScaler(),\n",
       "                                                  ['WhiteAvgPlyCount',\n",
       "                                                   'BlackAvgPlyCount',\n",
       "                                                   'WhiteAvgRD',\n",
       "                                                   'BlackAvgRD'])])),\n",
       "                ('logreg',\n",
       "                 LogisticRegression(C=10000.0, penalty='l1',\n",
       "                                    solver='liblinear'))])"
      ]
     },
     "execution_count": 32,
     "metadata": {},
     "output_type": "execute_result"
    }
   ],
   "source": [
    "# standard model\n",
    "logreg = LogisticRegression(penalty='l1',\n",
    "                            solver='liblinear',\n",
    "                            C=1e+04)\n",
    "\n",
    "# preprocessing, including scaling and transforming features\n",
    "preproc = ColumnTransformer(\n",
    "        transformers=[\n",
    "            ('white-as-is', FunctionTransformer(), ['WhiteAvgEmtForOpenings',\n",
    "                                                    'WhiteAvgEmtForMiddlegames',\n",
    "                                                    'WhiteAvgEmtForEndgames']),\n",
    "            \n",
    "            ('black-as-is', FunctionTransformer(), ['BlackAvgEmtForOpenings',\n",
    "                                                    'BlackAvgEmtForMiddlegames',\n",
    "                                                    'BlackAvgEmtForEndgames']),\n",
    "            \n",
    "            ('white-scale', StandardScaler(), ['WhiteAvgEvalForOpenings', \n",
    "                                              'WhiteAvgEvalForMiddlegames', \n",
    "                                              'WhiteAvgEvalForEndgames']),\n",
    "            \n",
    "            ('black-scale', StandardScaler(), ['BlackAvgEvalForOpenings', \n",
    "                                              'BlackAvgEvalForMiddlegames', \n",
    "                                              'BlackAvgEvalForEndgames']),\n",
    "            \n",
    "            ('std scale', StandardScaler(), ['WhiteAvgPlyCount', 'BlackAvgPlyCount',\n",
    "                                             'WhiteAvgRD', 'BlackAvgRD'])\n",
    "        ]\n",
    "    )\n",
    "\n",
    "# rudimentary model\n",
    "pl_plain = Pipeline([\n",
    "    ('logreg', logreg)\n",
    "])\n",
    "\n",
    "# model with preprocessing\n",
    "pl = Pipeline([\n",
    "    ('preprocessing', preproc),\n",
    "    ('logreg', logreg)\n",
    "])\n",
    "\n",
    "# train both models: one without processing, and one with\n",
    "pl_plain.fit(X_train, y_train)\n",
    "pl.fit(X_train, y_train)"
   ]
  },
  {
   "attachments": {},
   "cell_type": "markdown",
   "metadata": {},
   "source": [
    "#### Comparison With and Without Preprocessing"
   ]
  },
  {
   "cell_type": "code",
   "execution_count": 33,
   "metadata": {},
   "outputs": [],
   "source": [
    "# train each model 100 times and produce plot to observe differences in accuracy\n",
    "\n",
    "plain = []\n",
    "preproc = []\n",
    "\n",
    "for i in range(100):\n",
    "    X_train, X_test, y_train, y_test = train_test_split(X, y, test_size=0.5)\n",
    "    plain.append(pl_plain.score(X_test, y_test))\n",
    "    preproc.append(pl.score(X_test, y_test))"
   ]
  },
  {
   "cell_type": "code",
   "execution_count": 34,
   "metadata": {},
   "outputs": [
    {
     "data": {
      "image/png": "[encoded data removed]",
      "text/plain": [
       "<Figure size 640x480 with 1 Axes>"
      ]
     },
     "metadata": {},
     "output_type": "display_data"
    }
   ],
   "source": [
    "plt.plot(preproc, label = \"Preprocessed Model\", color='peru')\n",
    "plt.plot(plain, label = \"No Preprocessing\", color='silver')\n",
    "plt.legend()\n",
    "plt.show()"
   ]
  },
  {
   "cell_type": "markdown",
   "metadata": {},
   "source": [
    "As we can see in the plot above, preprocessing made a world of a difference in terms of improving the base model's accuracy."
   ]
  },
  {
   "cell_type": "markdown",
   "metadata": {},
   "source": [
    "#### Performance"
   ]
  },
  {
   "cell_type": "code",
   "execution_count": 35,
   "metadata": {},
   "outputs": [
    {
     "name": "stdout",
     "output_type": "stream",
     "text": [
      "              precision    recall  f1-score   support\n",
      "\n",
      "       Black       0.72      0.74      0.73      5371\n",
      "        Draw       0.70      0.44      0.54      1933\n",
      "       White       0.70      0.77      0.74      5638\n",
      "\n",
      "    accuracy                           0.71     12942\n",
      "   macro avg       0.71      0.65      0.67     12942\n",
      "weighted avg       0.71      0.71      0.70     12942\n",
      "\n"
     ]
    },
    {
     "data": {
      "image/png": "[encoded data removed]",
      "text/plain": [
       "<Figure size 1500x1500 with 2 Axes>"
      ]
     },
     "metadata": {},
     "output_type": "display_data"
    }
   ],
   "source": [
    "# get predictions from logistic regression\n",
    "y_pred = pl.predict(X_test)\n",
    "\n",
    "# display results\n",
    "print(classification_report(y_test, y_pred))\n",
    "cm = confusion_matrix(y_test, y_pred)\n",
    "disp = ConfusionMatrixDisplay(confusion_matrix=cm, display_labels=pl.classes_)\n",
    "fig, ax = plt.subplots(figsize=(15,15))\n",
    "disp.plot(ax=ax)\n",
    "plt.show()"
   ]
  },
  {
   "attachments": {},
   "cell_type": "markdown",
   "metadata": {},
   "source": [
    "Overall, the results of our logistic regression model are very promising. It appears to predict outcomes of black and white winning quite will, with f-scores of 0.73 and 0.74 respectively and similar precision and recall scores for each category. Unfortunately, it appears that the model isn't as effective at predicting \"draws\"; the precision score is good at 0.70, but the recall score is low at 0.44."
   ]
  },
  {
   "cell_type": "markdown",
   "metadata": {},
   "source": [
    "### Random Forest"
   ]
  },
  {
   "cell_type": "markdown",
   "metadata": {},
   "source": [
    "In training our random forest, we didn't elect to use a pipeline because the data was already properly formatted. The only step that would generally be left is to scale the numerical features via z-transformation, but random forests are robust to non-standardized features. \n",
    "\n",
    "We originially trained a rudimentary model and observed that the test performance was about 14% lower than the training performance. This could indicate overfitting, so we tried some pruning methods. The hyperparameters `ccp_alpha`, `max_depth`, `max_leaf_nodes`, and `min_sample_split` help with pruning. The hyperparameter optimization for our random forest took about an hour to train. We performed grid search over a number of hyperparameters, including `n_estimators` and `max_features`, and the ones mentioned previously. Contrary to our prediction, the grid search with all these variables determined that no pruning produced the best results. The model was likely not overfitting as much as we initially thought. \n",
    "\n",
    "We also tried reducing some of the default variability among learners by eliminating the random feature selection during training of each decision tree, and this eliminated a small amount of overfitting. \n",
    "\n",
    "The training and test accuracies as a result of the hyperparameter selection process are as follows:"
   ]
  },
  {
   "attachments": {},
   "cell_type": "markdown",
   "metadata": {},
   "source": [
    "#### Data Setup"
   ]
  },
  {
   "cell_type": "code",
   "execution_count": 38,
   "metadata": {},
   "outputs": [],
   "source": [
    "# split data into training and test sets\n",
    "\n",
    "# drop all ground truth labels from the processed training data\n",
    "X = df_train.drop(columns=df_train.columns[df_train.columns.str.contains('A_') + df_train.columns.str.contains('B_')])\n",
    "# get the desired ground truth labels\n",
    "y = cleaned['Result']\n",
    "# split data for training and accuracy testing\n",
    "X_train, X_test, y_train, y_test = train_test_split(X, y, random_state=42)"
   ]
  },
  {
   "attachments": {},
   "cell_type": "markdown",
   "metadata": {},
   "source": [
    "#### Training"
   ]
  },
  {
   "cell_type": "code",
   "execution_count": 39,
   "metadata": {},
   "outputs": [
    {
     "data": {
      "text/html": [
       "<style>#sk-container-id-3 {color: black;background-color: white;}#sk-container-id-3 pre{padding: 0;}#sk-container-id-3 div.sk-toggleable {background-color: white;}#sk-container-id-3 label.sk-toggleable__label {cursor: pointer;display: block;width: 100%;margin-bottom: 0;padding: 0.3em;box-sizing: border-box;text-align: center;}#sk-container-id-3 label.sk-toggleable__label-arrow:before {content: \"▸\";float: left;margin-right: 0.25em;color: #696969;}#sk-container-id-3 label.sk-toggleable__label-arrow:hover:before {color: black;}#sk-container-id-3 div.sk-estimator:hover label.sk-toggleable__label-arrow:before {color: black;}#sk-container-id-3 div.sk-toggleable__content {max-height: 0;max-width: 0;overflow: hidden;text-align: left;background-color: #f0f8ff;}#sk-container-id-3 div.sk-toggleable__content pre {margin: 0.2em;color: black;border-radius: 0.25em;background-color: #f0f8ff;}#sk-container-id-3 input.sk-toggleable__control:checked~div.sk-toggleable__content {max-height: 200px;max-width: 100%;overflow: auto;}#sk-container-id-3 input.sk-toggleable__control:checked~label.sk-toggleable__label-arrow:before {content: \"▾\";}#sk-container-id-3 div.sk-estimator input.sk-toggleable__control:checked~label.sk-toggleable__label {background-color: #d4ebff;}#sk-container-id-3 div.sk-label input.sk-toggleable__control:checked~label.sk-toggleable__label {background-color: #d4ebff;}#sk-container-id-3 input.sk-hidden--visually {border: 0;clip: rect(1px 1px 1px 1px);clip: rect(1px, 1px, 1px, 1px);height: 1px;margin: -1px;overflow: hidden;padding: 0;position: absolute;width: 1px;}#sk-container-id-3 div.sk-estimator {font-family: monospace;background-color: #f0f8ff;border: 1px dotted black;border-radius: 0.25em;box-sizing: border-box;margin-bottom: 0.5em;}#sk-container-id-3 div.sk-estimator:hover {background-color: #d4ebff;}#sk-container-id-3 div.sk-parallel-item::after {content: \"\";width: 100%;border-bottom: 1px solid gray;flex-grow: 1;}#sk-container-id-3 div.sk-label:hover label.sk-toggleable__label {background-color: #d4ebff;}#sk-container-id-3 div.sk-serial::before {content: \"\";position: absolute;border-left: 1px solid gray;box-sizing: border-box;top: 0;bottom: 0;left: 50%;z-index: 0;}#sk-container-id-3 div.sk-serial {display: flex;flex-direction: column;align-items: center;background-color: white;padding-right: 0.2em;padding-left: 0.2em;position: relative;}#sk-container-id-3 div.sk-item {position: relative;z-index: 1;}#sk-container-id-3 div.sk-parallel {display: flex;align-items: stretch;justify-content: center;background-color: white;position: relative;}#sk-container-id-3 div.sk-item::before, #sk-container-id-3 div.sk-parallel-item::before {content: \"\";position: absolute;border-left: 1px solid gray;box-sizing: border-box;top: 0;bottom: 0;left: 50%;z-index: -1;}#sk-container-id-3 div.sk-parallel-item {display: flex;flex-direction: column;z-index: 1;position: relative;background-color: white;}#sk-container-id-3 div.sk-parallel-item:first-child::after {align-self: flex-end;width: 50%;}#sk-container-id-3 div.sk-parallel-item:last-child::after {align-self: flex-start;width: 50%;}#sk-container-id-3 div.sk-parallel-item:only-child::after {width: 0;}#sk-container-id-3 div.sk-dashed-wrapped {border: 1px dashed gray;margin: 0 0.4em 0.5em 0.4em;box-sizing: border-box;padding-bottom: 0.4em;background-color: white;}#sk-container-id-3 div.sk-label label {font-family: monospace;font-weight: bold;display: inline-block;line-height: 1.2em;}#sk-container-id-3 div.sk-label-container {text-align: center;}#sk-container-id-3 div.sk-container {/* jupyter's `normalize.less` sets `[hidden] { display: none; }` but bootstrap.min.css set `[hidden] { display: none !important; }` so we also need the `!important` here to be able to override the default hidden behavior on the sphinx rendered scikit-learn.org. See: https://github.com/scikit-learn/scikit-learn/issues/21755 */display: inline-block !important;position: relative;}#sk-container-id-3 div.sk-text-repr-fallback {display: none;}</style><div id=\"sk-container-id-3\" class=\"sk-top-container\"><div class=\"sk-text-repr-fallback\"><pre>RandomForestClassifier(max_features=None, n_estimators=1000, n_jobs=-1)</pre><b>In a Jupyter environment, please rerun this cell to show the HTML representation or trust the notebook. <br />On GitHub, the HTML representation is unable to render, please try loading this page with nbviewer.org.</b></div><div class=\"sk-container\" hidden><div class=\"sk-item\"><div class=\"sk-estimator sk-toggleable\"><input class=\"sk-toggleable__control sk-hidden--visually\" id=\"sk-estimator-id-27\" type=\"checkbox\" checked><label for=\"sk-estimator-id-27\" class=\"sk-toggleable__label sk-toggleable__label-arrow\">RandomForestClassifier</label><div class=\"sk-toggleable__content\"><pre>RandomForestClassifier(max_features=None, n_estimators=1000, n_jobs=-1)</pre></div></div></div></div></div>"
      ],
      "text/plain": [
       "RandomForestClassifier(max_features=None, n_estimators=1000, n_jobs=-1)"
      ]
     },
     "execution_count": 39,
     "metadata": {},
     "output_type": "execute_result"
    }
   ],
   "source": [
    "rf = RandomForestClassifier(n_estimators=1000, max_features=None, n_jobs=-1)\n",
    "\n",
    "# train the random forest without one-hot encoded variables to decrease dimensions\n",
    "rf.fit(X_train.drop(columns=X_train.columns[X_train.columns.str.contains('C_')]), y_train)"
   ]
  },
  {
   "attachments": {},
   "cell_type": "markdown",
   "metadata": {},
   "source": [
    "#### Performance"
   ]
  },
  {
   "cell_type": "code",
   "execution_count": 40,
   "metadata": {},
   "outputs": [
    {
     "name": "stdout",
     "output_type": "stream",
     "text": [
      "              precision    recall  f1-score   support\n",
      "\n",
      "       Black       0.75      0.74      0.74      2724\n",
      "        Draw       0.66      0.49      0.56       974\n",
      "       White       0.70      0.78      0.74      2773\n",
      "\n",
      "    accuracy                           0.72      6471\n",
      "   macro avg       0.70      0.67      0.68      6471\n",
      "weighted avg       0.72      0.72      0.71      6471\n",
      "\n"
     ]
    },
    {
     "data": {
      "image/png": "[encoded data removed]",
      "text/plain": [
       "<Figure size 1500x1500 with 2 Axes>"
      ]
     },
     "metadata": {},
     "output_type": "display_data"
    }
   ],
   "source": [
    "# predict categories from the test set\n",
    "y_pred = rf.predict(X_test.drop(columns=X_train.columns[X_train.columns.str.contains('C_')]))\n",
    "\n",
    "# display results\n",
    "print(classification_report(y_test, y_pred))\n",
    "cm = confusion_matrix(y_test, y_pred)\n",
    "disp = ConfusionMatrixDisplay(confusion_matrix=cm, display_labels=rf.classes_)\n",
    "fig, ax = plt.subplots(figsize=(15,15))\n",
    "disp.plot(ax=ax)\n",
    "plt.show()"
   ]
  },
  {
   "attachments": {},
   "cell_type": "markdown",
   "metadata": {},
   "source": [
    "Our random forest results are very similar to those of the logistic regression. The random forest was quite effective at predicting outcomes with either black or white winning, but it was less effective at predicting games that end in a draw. This is interesting given that the \"draw\" category had the most datapoints. Overall, the f-scores for each category here are very similar to those of from the logistic regression."
   ]
  },
  {
   "cell_type": "markdown",
   "metadata": {},
   "source": [
    "# __NEEDS WORK__\n",
    "You may have done tons of work on this. Not all of it belongs here. \n",
    "\n",
    "Reports should have a __narrative__. Once you've looked through all your results over the quarter, decide on one main point and 2-4 secondary points you want us to understand. Include the detailed code and analysis results of those points only; you should spend more time/code/plots on your main point than the others.\n",
    "\n",
    "If you went down any blind alleys that you later decided to not pursue, please don't abuse the TAs time by throwing in 81 lines of code and 4 plots related to something you actually abandoned.  Consider deleting things that are not important to your narrative.  If its slightly relevant to the narrative or you just want us to know you tried something, you could keep it in by summarizing the result in this report in a sentence or two, moving the actual analysis to another file in your repo, and providing us a link to that file.\n",
    "\n",
    "### Subsection 1\n",
    "\n",
    "You will likely have different subsections as you go through your report. For instance you might start with an analysis of the dataset/problem and from there you might be able to draw out the kinds of algorithms that are / aren't appropriate to tackle the solution.  Or something else completely if this isn't the way your project works.\n",
    "\n",
    "### Subsection 2\n",
    "\n",
    "Another likely section is if you are doing any feature selection through cross-validation or hand-design/validation of features/transformations of the data\n",
    "\n",
    "### Subsection 3\n",
    "\n",
    "Probably you need to describe the base model and demonstrate its performance.  Maybe you include a learning curve to show whether you have enough data to do train/validate/test split or have to go to k-folds or LOOCV or ???\n",
    "\n",
    "### Subsection 4\n",
    "\n",
    "Perhaps some exploration of the model selection (hyper-parameters) or algorithm selection task. Validation curves, plots showing the variability of perfromance across folds of the cross-validation, etc. If you're doing one, the outcome of the null hypothesis test or parsimony principle check to show how you are selecting the best model.\n",
    "\n",
    "### Subsection 5 \n",
    "\n",
    "Maybe you do model selection again, but using a different kind of metric than before?\n",
    "\n"
   ]
  },
  {
   "cell_type": "markdown",
   "metadata": {},
   "source": [
    "# Discussion\n",
    "\n",
    "### Interpreting the result\n",
    "# __NEEDS WORK__\n",
    "OK, you've given us quite a bit of tech informaiton above, now its time to tell us what to pay attention to in all that.  Think clearly about your results, decide on one main point and 2-4 secondary points you want us to understand. Highlight HOW your results support those points.  You probably want 2-5 sentences per point.\n",
    "\n",
    "### Limitations\n",
    "# __NEEDS WORK__\n",
    "Are there any problems with the work?  For instance would more data change the nature of the problem? Would it be good to explore more hyperparams than you had time for?   \n",
    "\n",
    "### Ethics & Privacy\n",
    "\n",
    "In the case of data privacy, we see no major concerns with our data as it is publicly available FIDE match information that is made public anytime a chess player agrees to a FIDE match. The biggest ethical concern that we could potentially see with the production of any well-functioning model for predicting FIDE titled chess matches would be the use of the model for gambling purposes. Although we don't foresee the prediction accuracy of our models being able to give a definitive answer to who will win a match, a good model could lead to an increase in chess match gambling which comes with its own host of harmful consequences. Additionally, we can highlight the concern that a prediction model could affect the way that players go about their matches if they know the predicted outcome of a game given specific features. This could be seen as an unfair advantage. The model, if then re-trained with new data, could also perform much more poorly as outcomes would now be affected by prior knowledge of the potential outcome of a game which would complicate further predictions.\n",
    "\n",
    "### Conclusion\n",
    "# __NEEDS WORK__\n",
    "Reiterate your main point and in just a few sentences tell us how your results support it. Mention how this work would fit in the background/context of other work in this field if you can. Suggest directions for future work if you want to."
   ]
  }
 ],
 "metadata": {
  "kernelspec": {
   "display_name": "Python 3 (ipykernel)",
   "language": "python",
   "name": "python3"
  },
  "language_info": {
   "codemirror_mode": {
    "name": "ipython",
    "version": 3
   },
   "file_extension": ".py",
   "mimetype": "text/x-python",
   "name": "python",
   "nbconvert_exporter": "python",
   "pygments_lexer": "ipython3",
   "version": "3.9.5"
  }
 },
 "nbformat": 4,
 "nbformat_minor": 2
}
